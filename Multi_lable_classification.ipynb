{
  "nbformat": 4,
  "nbformat_minor": 0,
  "metadata": {
    "colab": {
      "name": "Multi_lable_classification.ipynb",
      "provenance": [],
      "collapsed_sections": [],
      "include_colab_link": true
    },
    "kernelspec": {
      "name": "python3",
      "display_name": "Python 3"
    }
  },
  "cells": [
    {
      "cell_type": "markdown",
      "metadata": {
        "id": "view-in-github",
        "colab_type": "text"
      },
      "source": [
        "<a href=\"https://colab.research.google.com/github/klngithubsairam/Research/blob/master/Multi_lable_classification.ipynb\" target=\"_parent\"><img src=\"https://colab.research.google.com/assets/colab-badge.svg\" alt=\"Open In Colab\"/></a>"
      ]
    },
    {
      "cell_type": "code",
      "metadata": {
        "id": "aXgPxHiexFRH"
      },
      "source": [
        ""
      ],
      "execution_count": null,
      "outputs": []
    },
    {
      "cell_type": "code",
      "metadata": {
        "id": "UBc0qrXJmL6_",
        "outputId": "d877c49b-4963-4798-f083-6dcafc7b2d4e",
        "colab": {
          "base_uri": "https://localhost:8080/"
        }
      },
      "source": [
        "from google.colab import drive\n",
        "drive.mount('/content/gdrive')"
      ],
      "execution_count": 2,
      "outputs": [
        {
          "output_type": "stream",
          "text": [
            "Mounted at /content/gdrive\n"
          ],
          "name": "stdout"
        }
      ]
    },
    {
      "cell_type": "code",
      "metadata": {
        "id": "sX-jpWJSmUg5",
        "outputId": "7e34c68b-e5a7-4b6c-8e4a-2cba96924837",
        "colab": {
          "base_uri": "https://localhost:8080/"
        }
      },
      "source": [
        "# mlp for multi-label classification\n",
        "import pandas as pd\n",
        "from numpy import mean\n",
        "from numpy import std\n",
        "from sklearn.datasets import make_multilabel_classification\n",
        "from sklearn.model_selection import RepeatedKFold\n",
        "from keras.models import Sequential\n",
        "from keras.layers import Dense\n",
        "from sklearn.metrics import accuracy_score\n",
        "\n",
        "# get the dataset\n",
        "def get_dataset():\n",
        "\t#X, y = make_multilabel_classification(n_samples=1000, n_features=10, n_classes=3, n_labels=2, random_state=1)\n",
        "\tdataset=pd.read_csv(\"/content/gdrive/My Drive/Mul_Label_Dataset.csv\", delimiter=',')\n",
        "\t#print(dataset)\n",
        "\tX = dataset[['Send','call','DC','IFMSCV','MSCV','BA','MBZ','TxO','RS','CA','AL','IFWL','WWL','FWL']].values\n",
        "\ty = dataset[['C1','C2','C3']].values\n",
        "\treturn X,y\n",
        "\n",
        "# get the model\n",
        "def get_model(n_inputs, n_outputs):\n",
        "\tmodel = Sequential()\n",
        "\tmodel.add(Dense(20, input_dim=n_inputs, kernel_initializer='he_uniform', activation='relu'))\n",
        "\tmodel.add(Dense(n_outputs, activation='sigmoid'))\n",
        "\tmodel.compile(loss='binary_crossentropy', optimizer='adam')\n",
        "\treturn model\n",
        "\n",
        "# evaluate a model using repeated k-fold cross-validation\n",
        "def evaluate_model(X, y):\n",
        "\tresults = list()\n",
        "\tn_inputs, n_outputs = X.shape[1], y.shape[1]\n",
        "\tprint(\"n_i_o:\", n_inputs, n_outputs)\n",
        "\t# define evaluation procedure\n",
        "\tcv = RepeatedKFold(n_splits=10, n_repeats=3, random_state=1)\n",
        "\t# enumerate folds\n",
        "\tfor train_ix, test_ix in cv.split(X):\n",
        "\t\t# prepare data\n",
        "\t\tX_train, X_test = X[train_ix], X[test_ix]\n",
        "\t\ty_train, y_test = y[train_ix], y[test_ix]\n",
        "\t# define model\n",
        "\tmodel = get_model(n_inputs, n_outputs)\n",
        "\t# fit model\n",
        "\tmodel.fit(X_train, y_train, verbose=0, epochs=100)\n",
        "\t# make a prediction on the test set\n",
        "\tyhat = model.predict(X_test)\n",
        "\t# round probabilities to class labels\n",
        "\tyhat = yhat.round()\n",
        "\t# calculate accuracy\n",
        "\tacc = accuracy_score(y_test, yhat)\n",
        "\t# store result\n",
        "\t#print('>%.3f' % acc)\n",
        "\tresults.append(acc)\n",
        "\treturn results\n",
        "\n",
        "# load dataset\n",
        "X,y = get_dataset()\n",
        "# evaluate model\n",
        "results = evaluate_model(X, y)\n",
        "# summarize performance\n",
        "print('Accuracy: %.3f (%.3f)' % (mean(results)*100, std(results)*100))"
      ],
      "execution_count": 7,
      "outputs": [
        {
          "output_type": "stream",
          "text": [
            "n_i_o: 14 3\n",
            "Accuracy: 97.403 (0.000)\n"
          ],
          "name": "stdout"
        }
      ]
    },
    {
      "cell_type": "code",
      "metadata": {
        "id": "v-9JeVW49bpO"
      },
      "source": [
        ""
      ],
      "execution_count": null,
      "outputs": []
    }
  ]
}