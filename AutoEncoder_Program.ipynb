{
  "nbformat": 4,
  "nbformat_minor": 0,
  "metadata": {
    "colab": {
      "name": "AutoEncoder_Program.ipynb",
      "provenance": [],
      "collapsed_sections": [],
      "authorship_tag": "ABX9TyOFRxDdZeg+0e361IUrnL+F",
      "include_colab_link": true
    },
    "kernelspec": {
      "name": "python3",
      "display_name": "Python 3"
    }
  },
  "cells": [
    {
      "cell_type": "markdown",
      "metadata": {
        "id": "view-in-github",
        "colab_type": "text"
      },
      "source": [
        "<a href=\"https://colab.research.google.com/github/klngithubsairam/Research/blob/master/AutoEncoder_Program.ipynb\" target=\"_parent\"><img src=\"https://colab.research.google.com/assets/colab-badge.svg\" alt=\"Open In Colab\"/></a>"
      ]
    },
    {
      "cell_type": "code",
      "metadata": {
        "id": "G12MNs5_NChH",
        "outputId": "47acf64e-2e27-4395-b9bd-192984827e60",
        "colab": {
          "base_uri": "https://localhost:8080/"
        }
      },
      "source": [
        "from google.colab import drive\n",
        "drive.mount('/content/gdrive')"
      ],
      "execution_count": 2,
      "outputs": [
        {
          "output_type": "stream",
          "text": [
            "Mounted at /content/gdrive\n"
          ],
          "name": "stdout"
        }
      ]
    },
    {
      "cell_type": "code",
      "metadata": {
        "id": "CuuFkwSXNvSe",
        "outputId": "1054498f-1a60-425b-afc1-97299943c3f2",
        "colab": {
          "base_uri": "https://localhost:8080/",
          "height": 1000
        }
      },
      "source": [
        "import pandas as pd\n",
        "import numpy as np\n",
        "from matplotlib import pyplot as plt\n",
        "from keras.callbacks import ModelCheckpoint, TensorBoard\n",
        "from sklearn.metrics import confusion_matrix\n",
        "from sklearn.model_selection import train_test_split\n",
        "from keras.layers import Input, Dense\n",
        "from keras.models import Model\n",
        "from keras import regularizers\n",
        "import seaborn as sns\n",
        "\n",
        "# load dataset\n",
        "df = pd.read_csv(\"/content/gdrive/My Drive/Reentrancy_dataset.csv\",delimiter=',')\n",
        "\n",
        "df2_train, df2_test = train_test_split(df, test_size=0.2,random_state=123 )\n",
        "df2_train, df2_valid = train_test_split(df2_train, test_size=0.2,random_state=123)\n",
        "\n",
        "train_data21 = df2_train.loc[df2_train['Label'] == 0, ['Send', 'call', 'dc', 'if', 'mscv','bv','bms', 'Label']]\n",
        "val_data21 = df2_valid.loc[df2_valid['Label'] == 0, ['Send', 'call', 'dc', 'if', 'mscv','bv','bms', 'Label']]\n",
        "\n",
        "train_data2= train_data21.drop(['Label'], axis=1)\n",
        "val_data2=val_data21.drop(['Label'], axis=1)\n",
        "test_data2=df2_test.drop(['Label'], axis=1)\n",
        "\n",
        "print(train_data2.shape)\n",
        "print(val_data2.shape)\n",
        "print(test_data2.shape)\n",
        "\n",
        "batch_size = 64\n",
        "input_dim = 7 \n",
        "encoding_dim = 64\n",
        "hidden_dim = int(encoding_dim / 2)\n",
        "learning_rate = 1e-3\n",
        "\n",
        "input_layer = Input(shape=(input_dim, ))\n",
        "encoder = Dense(encoding_dim, activation=\"relu\", activity_regularizer=regularizers.l1(learning_rate))(input_layer)\n",
        "encoder = Dense(hidden_dim, activation=\"relu\")(encoder)\n",
        "decoder = Dense(hidden_dim, activation=\"relu\")(encoder)\n",
        "decoder = Dense(encoding_dim, activation=\"relu\")(decoder)\n",
        "decoder = Dense(input_dim, activation=\"linear\")(decoder)\n",
        "autoencoder = Model(inputs=input_layer, outputs=decoder)\n",
        "autoencoder.summary()\n",
        "\n",
        "autoencoder.compile(metrics=['accuracy'],\n",
        "                    loss='mean_squared_error',\n",
        "                    optimizer='adam')\n",
        "\n",
        "cp = ModelCheckpoint(filepath=\"autoencoder_classifier.h5\",\n",
        "                               save_best_only=True,\n",
        "                               verbose=0)\n",
        "\n",
        "tb = TensorBoard(log_dir='./logs',\n",
        "                histogram_freq=0,\n",
        "                write_graph=True,\n",
        "                write_images=True)\n",
        "\n",
        "history = autoencoder.fit(train_data2, train_data2,\n",
        "                    epochs=20,\n",
        "                    batch_size=batch_size,\n",
        "                    shuffle=True,\n",
        "                    validation_data=(val_data2, val_data2),\n",
        "                    verbose=1,\n",
        "                    callbacks=[cp, tb]).history\n",
        "\n",
        "test_x_predictions = autoencoder.predict(test_data2)\n",
        "t=test_data2.values\n",
        "mse = np.mean(np.power(t - test_x_predictions, 2), axis=1)  \n",
        "error_df_test = pd.DataFrame({'Reconstruction_error': mse,\n",
        "                        'True_class': df2_test['Label']})\n",
        "error_df_test = error_df_test.reset_index()\n",
        "\n",
        "threshold_fixed = 0.006\n",
        "groups = error_df_test.groupby('True_class')\n",
        "\n",
        "fig, ax = plt.subplots()\n",
        "\n",
        "for name, group in groups:\n",
        "    ax.plot(group.index, group.Reconstruction_error, marker='o', ms=4.5, linestyle='',\n",
        "            label= \"Break\" if name == 1 else \"Normal\")\n",
        "ax.hlines(threshold_fixed, ax.get_xlim()[0], ax.get_xlim()[1], colors=\"r\", zorder=100, label='Threshold')\n",
        "ax.legend()\n",
        "plt.title(\"Reconstruction error for different classes\")\n",
        "plt.ylabel(\"Reconstruction error\")\n",
        "plt.xlabel(\"Data point index\")\n",
        "plt.show();\n",
        "\n",
        "pred_y = [1 if e > threshold_fixed else 0 for e in error_df_test.Reconstruction_error.values]\n",
        "conf_matrix = confusion_matrix(error_df_test.True_class, pred_y)\n",
        "plt.figure(figsize=(5, 5))\n",
        "sns.heatmap(conf_matrix, annot=True, fmt=\"d\");\n",
        "plt.title(\"Confusion matrix\")\n",
        "plt.ylabel('True class')\n",
        "plt.xlabel('Predicted class')\n",
        "plt.show()\n"
      ],
      "execution_count": 4,
      "outputs": [
        {
          "output_type": "stream",
          "text": [
            "(536, 7)\n",
            "(133, 7)\n",
            "(224, 7)\n",
            "Model: \"functional_3\"\n",
            "_________________________________________________________________\n",
            "Layer (type)                 Output Shape              Param #   \n",
            "=================================================================\n",
            "input_2 (InputLayer)         [(None, 7)]               0         \n",
            "_________________________________________________________________\n",
            "dense_5 (Dense)              (None, 64)                512       \n",
            "_________________________________________________________________\n",
            "dense_6 (Dense)              (None, 32)                2080      \n",
            "_________________________________________________________________\n",
            "dense_7 (Dense)              (None, 32)                1056      \n",
            "_________________________________________________________________\n",
            "dense_8 (Dense)              (None, 64)                2112      \n",
            "_________________________________________________________________\n",
            "dense_9 (Dense)              (None, 7)                 455       \n",
            "=================================================================\n",
            "Total params: 6,215\n",
            "Trainable params: 6,215\n",
            "Non-trainable params: 0\n",
            "_________________________________________________________________\n",
            "Epoch 1/20\n",
            "1/9 [==>...........................] - ETA: 0s - loss: 0.6563 - accuracy: 0.1406WARNING:tensorflow:Callbacks method `on_train_batch_end` is slow compared to the batch time (batch time: 0.0060s vs `on_train_batch_end` time: 0.0411s). Check your callbacks.\n",
            "9/9 [==============================] - 0s 27ms/step - loss: 0.5634 - accuracy: 0.4347 - val_loss: 0.4879 - val_accuracy: 0.6090\n",
            "Epoch 2/20\n",
            "9/9 [==============================] - 0s 6ms/step - loss: 0.3984 - accuracy: 0.6810 - val_loss: 0.3498 - val_accuracy: 0.7744\n",
            "Epoch 3/20\n",
            "9/9 [==============================] - 0s 6ms/step - loss: 0.2719 - accuracy: 0.8433 - val_loss: 0.2331 - val_accuracy: 0.7744\n",
            "Epoch 4/20\n",
            "9/9 [==============================] - 0s 6ms/step - loss: 0.1665 - accuracy: 0.7090 - val_loss: 0.1392 - val_accuracy: 0.7068\n",
            "Epoch 5/20\n",
            "9/9 [==============================] - 0s 6ms/step - loss: 0.0919 - accuracy: 0.6530 - val_loss: 0.0806 - val_accuracy: 0.7068\n",
            "Epoch 6/20\n",
            "9/9 [==============================] - 0s 6ms/step - loss: 0.0516 - accuracy: 0.6343 - val_loss: 0.0417 - val_accuracy: 0.5414\n",
            "Epoch 7/20\n",
            "9/9 [==============================] - 0s 6ms/step - loss: 0.0255 - accuracy: 0.4907 - val_loss: 0.0190 - val_accuracy: 0.5414\n",
            "Epoch 8/20\n",
            "9/9 [==============================] - 0s 6ms/step - loss: 0.0141 - accuracy: 0.5951 - val_loss: 0.0121 - val_accuracy: 0.7068\n",
            "Epoch 9/20\n",
            "9/9 [==============================] - 0s 6ms/step - loss: 0.0113 - accuracy: 0.6978 - val_loss: 0.0111 - val_accuracy: 0.8722\n",
            "Epoch 10/20\n",
            "9/9 [==============================] - 0s 6ms/step - loss: 0.0102 - accuracy: 0.7799 - val_loss: 0.0103 - val_accuracy: 0.7068\n",
            "Epoch 11/20\n",
            "9/9 [==============================] - 0s 6ms/step - loss: 0.0097 - accuracy: 0.5896 - val_loss: 0.0101 - val_accuracy: 0.7068\n",
            "Epoch 12/20\n",
            "9/9 [==============================] - 0s 6ms/step - loss: 0.0095 - accuracy: 0.6549 - val_loss: 0.0099 - val_accuracy: 0.7068\n",
            "Epoch 13/20\n",
            "9/9 [==============================] - 0s 6ms/step - loss: 0.0093 - accuracy: 0.6549 - val_loss: 0.0097 - val_accuracy: 0.7068\n",
            "Epoch 14/20\n",
            "9/9 [==============================] - 0s 6ms/step - loss: 0.0092 - accuracy: 0.7910 - val_loss: 0.0097 - val_accuracy: 0.8722\n",
            "Epoch 15/20\n",
            "9/9 [==============================] - 0s 6ms/step - loss: 0.0091 - accuracy: 0.6940 - val_loss: 0.0096 - val_accuracy: 0.7068\n",
            "Epoch 16/20\n",
            "9/9 [==============================] - 0s 6ms/step - loss: 0.0090 - accuracy: 0.6549 - val_loss: 0.0095 - val_accuracy: 0.5414\n",
            "Epoch 17/20\n",
            "9/9 [==============================] - 0s 6ms/step - loss: 0.0090 - accuracy: 0.6437 - val_loss: 0.0094 - val_accuracy: 0.8722\n",
            "Epoch 18/20\n",
            "9/9 [==============================] - 0s 6ms/step - loss: 0.0089 - accuracy: 0.8172 - val_loss: 0.0093 - val_accuracy: 0.8722\n",
            "Epoch 19/20\n",
            "9/9 [==============================] - 0s 6ms/step - loss: 0.0088 - accuracy: 0.7724 - val_loss: 0.0092 - val_accuracy: 0.7068\n",
            "Epoch 20/20\n",
            "9/9 [==============================] - 0s 6ms/step - loss: 0.0087 - accuracy: 0.6549 - val_loss: 0.0092 - val_accuracy: 0.7068\n"
          ],
          "name": "stdout"
        },
        {
          "output_type": "display_data",
          "data": {
            "image/png": "[encoded data removed]",
            "text/plain": [
              "<Figure size 432x288 with 1 Axes>"
            ]
          },
          "metadata": {
            "tags": [],
            "needs_background": "light"
          }
        },
        {
          "output_type": "display_data",
          "data": {
            "image/png": "[encoded data removed]",
            "text/plain": [
              "<Figure size 360x360 with 2 Axes>"
            ]
          },
          "metadata": {
            "tags": [],
            "needs_background": "light"
          }
        }
      ]
    }
  ]
}