{
  "nbformat": 4,
  "nbformat_minor": 0,
  "metadata": {
    "colab": {
      "name": "AutoEncoder_Program.ipynb",
      "provenance": [],
      "collapsed_sections": [],
      "authorship_tag": "ABX9TyM8w5BTrlT86bQ4z37fsPK/",
      "include_colab_link": true
    },
    "kernelspec": {
      "name": "python3",
      "display_name": "Python 3"
    }
  },
  "cells": [
    {
      "cell_type": "markdown",
      "metadata": {
        "id": "view-in-github",
        "colab_type": "text"
      },
      "source": [
        "<a href=\"https://colab.research.google.com/github/klngithubsairam/Research/blob/master/AutoEncoder_Program.ipynb\" target=\"_parent\"><img src=\"https://colab.research.google.com/assets/colab-badge.svg\" alt=\"Open In Colab\"/></a>"
      ]
    },
    {
      "cell_type": "code",
      "metadata": {
        "id": "G12MNs5_NChH",
        "outputId": "65385740-8adb-4e0e-e86f-1f98b602b907",
        "colab": {
          "base_uri": "https://localhost:8080/"
        }
      },
      "source": [
        "from google.colab import drive\n",
        "drive.mount('/content/gdrive')"
      ],
      "execution_count": 1,
      "outputs": [
        {
          "output_type": "stream",
          "text": [
            "Mounted at /content/gdrive\n"
          ],
          "name": "stdout"
        }
      ]
    },
    {
      "cell_type": "code",
      "metadata": {
        "id": "CuuFkwSXNvSe",
        "outputId": "f4768c31-7453-4897-ad84-e0cdb13bbfd0",
        "colab": {
          "base_uri": "https://localhost:8080/",
          "height": 1000
        }
      },
      "source": [
        "import pandas as pd\n",
        "import numpy as np\n",
        "from matplotlib import pyplot as plt\n",
        "from keras.callbacks import ModelCheckpoint, TensorBoard\n",
        "from sklearn.metrics import confusion_matrix\n",
        "from sklearn.model_selection import train_test_split\n",
        "from keras.layers import Input, Dense\n",
        "from keras.models import Model\n",
        "from keras import regularizers\n",
        "import seaborn as sns\n",
        "\n",
        "# load dataset\n",
        "df = pd.read_csv(\"/content/gdrive/My Drive/Reentrancy_dataset.csv\",delimiter=',')\n",
        "\n",
        "df2_train, df2_test = train_test_split(df, test_size=0.2,random_state=123 )\n",
        "df2_train, df2_valid = train_test_split(df2_train, test_size=0.2,random_state=123)\n",
        "\n",
        "train_data21 = df2_train.loc[df2_train['Label'] == 0, ['Send', 'call', 'dc', 'if', 'mscv','bv','bms', 'Label']]\n",
        "val_data21 = df2_valid.loc[df2_valid['Label'] == 0, ['Send', 'call', 'dc', 'if', 'mscv','bv','bms', 'Label']]\n",
        "\n",
        "train_data2= train_data21.drop(['Label'], axis=1)\n",
        "val_data2=val_data21.drop(['Label'], axis=1)\n",
        "test_data2=df2_test.drop(['Label'], axis=1)\n",
        "\n",
        "print(train_data2.shape)\n",
        "print(val_data2.shape)\n",
        "print(test_data2.shape)\n",
        "\n",
        "batch_size = 64\n",
        "input_dim = 7 \n",
        "encoding_dim = 64\n",
        "hidden_dim = int(encoding_dim / 2)\n",
        "learning_rate = 1e-3\n",
        "\n",
        "input_layer = Input(shape=(input_dim, ))\n",
        "encoder = Dense(encoding_dim, activation=\"relu\", activity_regularizer=regularizers.l1(learning_rate))(input_layer)\n",
        "encoder = Dense(hidden_dim, activation=\"relu\")(encoder)\n",
        "decoder = Dense(hidden_dim, activation=\"relu\")(encoder)\n",
        "decoder = Dense(encoding_dim, activation=\"relu\")(decoder)\n",
        "decoder = Dense(input_dim, activation=\"linear\")(decoder)\n",
        "autoencoder = Model(inputs=input_layer, outputs=decoder)\n",
        "autoencoder.summary()\n",
        "\n",
        "autoencoder.compile(metrics=['accuracy'],\n",
        "                    loss='mean_squared_error',\n",
        "                    optimizer='adam')\n",
        "\n",
        "cp = ModelCheckpoint(filepath=\"autoencoder_classifier.h5\",\n",
        "                               save_best_only=True,\n",
        "                               verbose=0)\n",
        "\n",
        "tb = TensorBoard(log_dir='./logs',\n",
        "                histogram_freq=0,\n",
        "                write_graph=True,\n",
        "                write_images=True)\n",
        "\n",
        "history = autoencoder.fit(train_data2, train_data2,\n",
        "                    epochs=20,\n",
        "                    batch_size=batch_size,\n",
        "                    shuffle=True,\n",
        "                    validation_data=(val_data2, val_data2),\n",
        "                    verbose=1,\n",
        "                    callbacks=[cp, tb]).history\n",
        "\n",
        "test_x_predictions = autoencoder.predict(test_data2)\n",
        "t=test_data2.values\n",
        "mse = np.mean(np.power(t - test_x_predictions, 2), axis=1)  \n",
        "error_df_test = pd.DataFrame({'Reconstruction_error': mse,\n",
        "                        'True_class': df2_test['Label']})\n",
        "error_df_test = error_df_test.reset_index()\n",
        "\n",
        "threshold_fixed = 0.006\n",
        "groups = error_df_test.groupby('True_class')\n",
        "\n",
        "fig, ax = plt.subplots()\n",
        "\n",
        "for name, group in groups:\n",
        "    ax.plot(group.index, group.Reconstruction_error, marker='o', ms=4.5, linestyle='',\n",
        "            label= \"Break\" if name == 1 else \"Normal\")\n",
        "ax.hlines(threshold_fixed, ax.get_xlim()[0], ax.get_xlim()[1], colors=\"r\", zorder=100, label='Threshold')\n",
        "ax.legend()\n",
        "plt.title(\"Reconstruction error for different classes\")\n",
        "plt.ylabel(\"Reconstruction error\")\n",
        "plt.xlabel(\"Data point index\")\n",
        "plt.show();\n",
        "\n",
        "pred_y = [1 if e > threshold_fixed else 0 for e in error_df_test.Reconstruction_error.values]\n",
        "conf_matrix = confusion_matrix(error_df_test.True_class, pred_y)\n",
        "print(\"==Confusion matrix==\")\n",
        "print(conf_matrix)\n",
        "#plt.figure(figsize=(5, 5))\n",
        "#sns.heatmap(conf_matrix, annot=True, fmt=\"d\");\n",
        "#plt.title(\"Confusion matrix\")\n",
        "#plt.ylabel('True class')\n",
        "#plt.xlabel('Predicted class')\n",
        "#plt.show()\n"
      ],
      "execution_count": 4,
      "outputs": [
        {
          "output_type": "stream",
          "text": [
            "(536, 7)\n",
            "(133, 7)\n",
            "(224, 7)\n",
            "Model: \"functional_3\"\n",
            "_________________________________________________________________\n",
            "Layer (type)                 Output Shape              Param #   \n",
            "=================================================================\n",
            "input_2 (InputLayer)         [(None, 7)]               0         \n",
            "_________________________________________________________________\n",
            "dense_5 (Dense)              (None, 64)                512       \n",
            "_________________________________________________________________\n",
            "dense_6 (Dense)              (None, 32)                2080      \n",
            "_________________________________________________________________\n",
            "dense_7 (Dense)              (None, 32)                1056      \n",
            "_________________________________________________________________\n",
            "dense_8 (Dense)              (None, 64)                2112      \n",
            "_________________________________________________________________\n",
            "dense_9 (Dense)              (None, 7)                 455       \n",
            "=================================================================\n",
            "Total params: 6,215\n",
            "Trainable params: 6,215\n",
            "Non-trainable params: 0\n",
            "_________________________________________________________________\n",
            "Epoch 1/20\n",
            "1/9 [==>...........................] - ETA: 0s - loss: 0.6490 - accuracy: 0.2188WARNING:tensorflow:Callbacks method `on_train_batch_end` is slow compared to the batch time (batch time: 0.0047s vs `on_train_batch_end` time: 0.0428s). Check your callbacks.\n",
            "9/9 [==============================] - 0s 28ms/step - loss: 0.5689 - accuracy: 0.2687 - val_loss: 0.4990 - val_accuracy: 0.4812\n",
            "Epoch 2/20\n",
            "9/9 [==============================] - 0s 6ms/step - loss: 0.4037 - accuracy: 0.4981 - val_loss: 0.3605 - val_accuracy: 0.4812\n",
            "Epoch 3/20\n",
            "9/9 [==============================] - 0s 6ms/step - loss: 0.2844 - accuracy: 0.7463 - val_loss: 0.2387 - val_accuracy: 1.0000\n",
            "Epoch 4/20\n",
            "9/9 [==============================] - 0s 6ms/step - loss: 0.1728 - accuracy: 0.9757 - val_loss: 0.1453 - val_accuracy: 0.7068\n",
            "Epoch 5/20\n",
            "9/9 [==============================] - 0s 6ms/step - loss: 0.1140 - accuracy: 0.7071 - val_loss: 0.0975 - val_accuracy: 0.8346\n",
            "Epoch 6/20\n",
            "9/9 [==============================] - 0s 7ms/step - loss: 0.0725 - accuracy: 0.6082 - val_loss: 0.0533 - val_accuracy: 0.5414\n",
            "Epoch 7/20\n",
            "9/9 [==============================] - 0s 7ms/step - loss: 0.0430 - accuracy: 0.4907 - val_loss: 0.0313 - val_accuracy: 0.5414\n",
            "Epoch 8/20\n",
            "9/9 [==============================] - 0s 7ms/step - loss: 0.0264 - accuracy: 0.4907 - val_loss: 0.0187 - val_accuracy: 0.8722\n",
            "Epoch 9/20\n",
            "9/9 [==============================] - 0s 6ms/step - loss: 0.0163 - accuracy: 0.8172 - val_loss: 0.0142 - val_accuracy: 0.8722\n",
            "Epoch 10/20\n",
            "9/9 [==============================] - 0s 6ms/step - loss: 0.0132 - accuracy: 0.7220 - val_loss: 0.0128 - val_accuracy: 0.7068\n",
            "Epoch 11/20\n",
            "9/9 [==============================] - 0s 6ms/step - loss: 0.0120 - accuracy: 0.6269 - val_loss: 0.0120 - val_accuracy: 0.8722\n",
            "Epoch 12/20\n",
            "9/9 [==============================] - 0s 6ms/step - loss: 0.0114 - accuracy: 0.8116 - val_loss: 0.0117 - val_accuracy: 0.5414\n",
            "Epoch 13/20\n",
            "9/9 [==============================] - 0s 6ms/step - loss: 0.0111 - accuracy: 0.4907 - val_loss: 0.0115 - val_accuracy: 0.5414\n",
            "Epoch 14/20\n",
            "9/9 [==============================] - 0s 6ms/step - loss: 0.0108 - accuracy: 0.5634 - val_loss: 0.0113 - val_accuracy: 0.7068\n",
            "Epoch 15/20\n",
            "9/9 [==============================] - 0s 7ms/step - loss: 0.0106 - accuracy: 0.6530 - val_loss: 0.0111 - val_accuracy: 0.7068\n",
            "Epoch 16/20\n",
            "9/9 [==============================] - 0s 6ms/step - loss: 0.0105 - accuracy: 0.6231 - val_loss: 0.0110 - val_accuracy: 0.7068\n",
            "Epoch 17/20\n",
            "9/9 [==============================] - 0s 7ms/step - loss: 0.0104 - accuracy: 0.5970 - val_loss: 0.0109 - val_accuracy: 0.7068\n",
            "Epoch 18/20\n",
            "9/9 [==============================] - 0s 7ms/step - loss: 0.0102 - accuracy: 0.6735 - val_loss: 0.0108 - val_accuracy: 0.8722\n",
            "Epoch 19/20\n",
            "9/9 [==============================] - 0s 6ms/step - loss: 0.0101 - accuracy: 0.7500 - val_loss: 0.0106 - val_accuracy: 0.5414\n",
            "Epoch 20/20\n",
            "9/9 [==============================] - 0s 7ms/step - loss: 0.0100 - accuracy: 0.6101 - val_loss: 0.0105 - val_accuracy: 0.8722\n"
          ],
          "name": "stdout"
        },
        {
          "output_type": "display_data",
          "data": {
            "image/png": "[encoded data removed]",
            "text/plain": [
              "<Figure size 432x288 with 1 Axes>"
            ]
          },
          "metadata": {
            "tags": [],
            "needs_background": "light"
          }
        },
        {
          "output_type": "stream",
          "text": [
            "==Confusion matrix==\n",
            "[[171   0]\n",
            " [  0  53]]\n"
          ],
          "name": "stdout"
        }
      ]
    }
  ]
}