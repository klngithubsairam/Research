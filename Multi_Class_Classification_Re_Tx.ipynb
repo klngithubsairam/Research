{
  "nbformat": 4,
  "nbformat_minor": 0,
  "metadata": {
    "colab": {
      "name": "Re_TxO.ipynb",
      "provenance": [],
      "collapsed_sections": [],
      "include_colab_link": true
    },
    "kernelspec": {
      "name": "python3",
      "display_name": "Python 3"
    }
  },
  "cells": [
    {
      "cell_type": "markdown",
      "metadata": {
        "id": "view-in-github",
        "colab_type": "text"
      },
      "source": [
        "<a href=\"https://colab.research.google.com/github/klngithubsairam/Research/blob/master/Multi_Class_Classification_Re_Tx.ipynb\" target=\"_parent\"><img src=\"https://colab.research.google.com/assets/colab-badge.svg\" alt=\"Open In Colab\"/></a>"
      ]
    },
    {
      "cell_type": "code",
      "metadata": {
        "id": "aXgPxHiexFRH"
      },
      "source": [
        ""
      ],
      "execution_count": null,
      "outputs": []
    },
    {
      "cell_type": "code",
      "metadata": {
        "id": "UBc0qrXJmL6_",
        "outputId": "d877c49b-4963-4798-f083-6dcafc7b2d4e",
        "colab": {
          "base_uri": "https://localhost:8080/"
        }
      },
      "source": [
        "from google.colab import drive\n",
        "drive.mount('/content/gdrive')"
      ],
      "execution_count": 2,
      "outputs": [
        {
          "output_type": "stream",
          "text": [
            "Mounted at /content/gdrive\n"
          ],
          "name": "stdout"
        }
      ]
    },
    {
      "cell_type": "code",
      "metadata": {
        "id": "sX-jpWJSmUg5",
        "outputId": "16e101f5-3fb0-47b7-be9f-ff1eaf174203",
        "colab": {
          "base_uri": "https://localhost:8080/"
        }
      },
      "source": [
        "# multi-class classification with Keras\n",
        "import pandas as pd\n",
        "from keras.models import Sequential\n",
        "from keras.layers import Dense\n",
        "from keras.wrappers.scikit_learn import KerasClassifier\n",
        "from keras.utils import np_utils\n",
        "from sklearn.model_selection import cross_val_score\n",
        "from sklearn.model_selection import KFold\n",
        "from sklearn.preprocessing import LabelEncoder\n",
        "from sklearn.pipeline import Pipeline\n",
        "# load dataset\n",
        "dataset = pd.read_csv(\"/content/gdrive/My Drive/Re_Tx_Dataset.csv\",delimiter=',')\n",
        "# split into input (X) and output (y) variables\n",
        "print(dataset)\n",
        "X = dataset[['Send','call','DC','IFMSCV','MSCV','BA','BZ','TXO']].values\n",
        "Y = dataset['Label'].values\n",
        "#dataframe = pandas.read_csv(\"iris.data\", header=None)\n",
        "#dataset = dataframe.values\n",
        "#X = dataset[:,0:4].astype(float)\n",
        "#Y = dataset[:,4]\n",
        "# encode class values as integers\n",
        "encoder = LabelEncoder()\n",
        "encoder.fit(Y)\n",
        "encoded_Y = encoder.transform(Y)\n",
        "# convert integers to dummy variables (i.e. one hot encoded)\n",
        "dummy_y = np_utils.to_categorical(encoded_Y)\n",
        "\n",
        "# define baseline model\n",
        "def baseline_model():\n",
        "\t# create model\n",
        "\tmodel = Sequential()\n",
        "\tmodel.add(Dense(8, input_dim=8, activation='relu'))\n",
        "\tmodel.add(Dense(3, activation='softmax'))\n",
        "\t# Compile model\n",
        "\tmodel.compile(loss='categorical_crossentropy', optimizer='adam', metrics=['accuracy'])\n",
        "\treturn model\n",
        "\n",
        "estimator = KerasClassifier(build_fn=baseline_model, epochs=200, batch_size=5, verbose=0)\n",
        "kfold = KFold(n_splits=10, shuffle=True)\n",
        "results = cross_val_score(estimator, X, dummy_y, cv=kfold)\n",
        "print(\"Baseline: %.2f%% (%.2f%%)\" % (results.mean()*100, results.std()*100))\n",
        "print(results)"
      ],
      "execution_count": 3,
      "outputs": [
        {
          "output_type": "stream",
          "text": [
            "     Send  call  DC  IFMSCV  MSCV  BA  BZ  TXO       Label\n",
            "0       0     0   0       0     0   0   0    0        Good\n",
            "1       0     0   0       2     2   2   2    0  Reentrancy\n",
            "2       0     0   0       1     2   2   1    0        Good\n",
            "3       0     0   0       2     2   2   0    0  Reentrancy\n",
            "4       2     2   0       0     0   0   0    0        Good\n",
            "..    ...   ...  ..     ...   ...  ..  ..  ...         ...\n",
            "301     0     0   1       0     0   0   0    2   Tx_Origin\n",
            "302     0     0   0       0     0   0   0    2   Tx_Origin\n",
            "303     0     0   0       0     0   0   0    2   Tx_Origin\n",
            "304     0     0   0       0     0   0   0    2   Tx_Origin\n",
            "305     0     0   0       0     0   0   0    2   Tx_Origin\n",
            "\n",
            "[306 rows x 9 columns]\n",
            "Baseline: 100.00% (0.00%)\n",
            "[1. 1. 1. 1. 1. 1. 1. 1. 1. 1.]\n"
          ],
          "name": "stdout"
        }
      ]
    }
  ]
}